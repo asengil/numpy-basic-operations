{
 "cells": [
  {
   "cell_type": "code",
   "execution_count": null,
   "metadata": {},
   "outputs": [],
   "source": [
    "import numpy as np"
   ]
  },
  {
   "cell_type": "code",
   "execution_count": null,
   "metadata": {},
   "outputs": [],
   "source": [
    "Z = np.array([1, 2, 4, 5])\n",
    "Z"
   ]
  },
  {
   "cell_type": "code",
   "execution_count": null,
   "metadata": {},
   "outputs": [],
   "source": [
    "Z.dtype"
   ]
  },
  {
   "cell_type": "code",
   "execution_count": null,
   "metadata": {},
   "outputs": [],
   "source": [
    "type(Z)"
   ]
  },
  {
   "cell_type": "code",
   "execution_count": null,
   "metadata": {},
   "outputs": [],
   "source": [
    "Z.cumsum()"
   ]
  },
  {
   "cell_type": "code",
   "execution_count": null,
   "metadata": {},
   "outputs": [],
   "source": [
    "Y = np.array([range(i, i+3) for i in [1, 4, 7]])\n",
    "Y"
   ]
  },
  {
   "cell_type": "code",
   "execution_count": null,
   "metadata": {},
   "outputs": [],
   "source": [
    "np.full((3,5), 101, dtype=int) - 1"
   ]
  },
  {
   "cell_type": "code",
   "execution_count": null,
   "metadata": {},
   "outputs": [],
   "source": [
    "print(np.arange(1,10).reshape(3,3)[::-1])\n",
    "print(np.arange(1,10).reshape(3,3)[::, ::-1])\n",
    "print(np.arange(1,10).reshape(3,3)[::-1, ::-1])"
   ]
  },
  {
   "cell_type": "code",
   "execution_count": null,
   "metadata": {},
   "outputs": [],
   "source": [
    "np.arange(1, 10).reshape(3,3)[0]"
   ]
  },
  {
   "cell_type": "code",
   "execution_count": null,
   "metadata": {},
   "outputs": [],
   "source": [
    "K = [0, 0, 0, 0, 0]\n",
    "L = K[:3]\n",
    "L[0] = 5\n",
    "print(K)\n",
    "\n",
    "K = np.array([0, 0, 0, 0, 0])\n",
    "L = K[:3]\n",
    "L[0] = 5\n",
    "print(K)"
   ]
  },
  {
   "cell_type": "code",
   "execution_count": null,
   "metadata": {},
   "outputs": [],
   "source": [
    "K = np.zeros((3,3))\n",
    "K[1] = 5\n",
    "K"
   ]
  },
  {
   "cell_type": "code",
   "execution_count": null,
   "metadata": {},
   "outputs": [],
   "source": [
    "print(np.zeros((3,3)).reshape(1, -1))\n",
    "print(np.zeros((3,3)).reshape(-1, 1))"
   ]
  },
  {
   "cell_type": "code",
   "execution_count": null,
   "metadata": {},
   "outputs": [],
   "source": [
    "x = np.arange(3)\n",
    "y = np.arange(3, 6)\n",
    "z = np.arange(6, 9)\n",
    "k = np.arange(9, 12)\n",
    "l = np.arange(12, 15)\n",
    "np.concatenate((x, y, z, k, l))"
   ]
  },
  {
   "cell_type": "code",
   "execution_count": null,
   "metadata": {},
   "outputs": [],
   "source": [
    "Z = np.arange(15)\n",
    "x, y, z = np.split(Z, [5, 10])\n",
    "print('x = ' + str(x), 'y = ' + str(y), 'z = ' + str(z), sep='\\n')"
   ]
  },
  {
   "cell_type": "code",
   "execution_count": null,
   "metadata": {},
   "outputs": [],
   "source": [
    "Z = np.zeros((6,6), dtype=int)\n",
    "print(np.vsplit(Z, 2), np.vsplit(Z, 3), np.hsplit(Z, 3), sep='\\n\\n')"
   ]
  },
  {
   "cell_type": "code",
   "execution_count": null,
   "metadata": {},
   "outputs": [],
   "source": [
    "x = np.zeros(9)\n",
    "print(x + 5)\n",
    "print(np.add(x, 5))\n",
    "print(-x)\n",
    "print(np.negative(x))"
   ]
  },
  {
   "cell_type": "code",
   "execution_count": null,
   "metadata": {},
   "outputs": [],
   "source": [
    "X = np.arange(5)\n",
    "Y = np.zeros(5, dtype=int)\n",
    "np.add(X, 10, out=Y)"
   ]
  },
  {
   "cell_type": "code",
   "execution_count": null,
   "metadata": {},
   "outputs": [],
   "source": [
    "X = np.arange(1, 10)\n",
    "Y = np.arange(1, 10).reshape(3,3)\n",
    "print(X)\n",
    "print(np.multiply.reduce(X))\n",
    "print(np.multiply.accumulate(X), '\\n')\n",
    "\n",
    "print(Y)\n",
    "print(np.multiply.reduce(Y, axis=1))\n",
    "print(np.multiply.accumulate(Y, axis=1))\n",
    "print(np.multiply.accumulate(Y))"
   ]
  },
  {
   "cell_type": "code",
   "execution_count": null,
   "metadata": {},
   "outputs": [],
   "source": [
    "Z = np.arange(10)\n",
    "%timeit sum(Z)\n",
    "%timeit np.sum(Z)"
   ]
  },
  {
   "cell_type": "code",
   "execution_count": null,
   "metadata": {},
   "outputs": [],
   "source": [
    "Z = np.random.randint(10, size=(1,3))\n",
    "print(Z)\n",
    "\n",
    "print(np.min(Z)) \n",
    "print(Z.min())"
   ]
  },
  {
   "cell_type": "code",
   "execution_count": null,
   "metadata": {},
   "outputs": [],
   "source": [
    "np.random.seed(0)\n",
    "np.random.random((3,3))"
   ]
  },
  {
   "cell_type": "code",
   "execution_count": null,
   "metadata": {},
   "outputs": [],
   "source": [
    "Z = np.random.randint(-5, 5, size=(3,3))\n",
    "\n",
    "print(Z[None][None][np.newaxis], '\\n\\n')\n",
    "print(Z[:, None][:, np.newaxis][:, None])"
   ]
  },
  {
   "cell_type": "code",
   "execution_count": null,
   "metadata": {},
   "outputs": [],
   "source": [
    "Z = np.arange(10)\n",
    "print(Z)\n",
    "print(Z < 5)"
   ]
  },
  {
   "cell_type": "code",
   "execution_count": null,
   "metadata": {},
   "outputs": [],
   "source": [
    "X = np.array([1, 2, 3, 4, 5])\n",
    "Y = np.array([1, 7, 7, 7, 5])\n",
    "print(X == Y)"
   ]
  },
  {
   "cell_type": "code",
   "execution_count": null,
   "metadata": {},
   "outputs": [],
   "source": [
    "Z = np.sort(np.random.randint(10, size=10))\n",
    "print(Z)\n",
    "print(Z < 6, '\\n')\n",
    "\n",
    "print(np.count_nonzero(Z < 6))\n",
    "print(np.sum(Z < 6))\n",
    "print(np.count_nonzero((Z < 6) == 0))\n",
    "print(np.sum((Z < 6) == 0))\n"
   ]
  },
  {
   "cell_type": "code",
   "execution_count": null,
   "metadata": {},
   "outputs": [],
   "source": [
    "Z = np.sort(np.random.randint(10, size=(3,3)))\n",
    "print(Z)\n",
    "print(Z < 6, '\\n')\n",
    "\n",
    "print(np.sum(Z < 6, axis=1))\n",
    "print(np.sum(Z < 6, axis=0))"
   ]
  },
  {
   "cell_type": "code",
   "execution_count": null,
   "metadata": {},
   "outputs": [],
   "source": [
    "Z = np.sort(np.random.randint(10, size=(3,3)))\n",
    "print(Z, '\\n')\n",
    "\n",
    "print(np.any(Z > 8, axis=1))\n",
    "print(np.all(Z > 5, axis=0))"
   ]
  },
  {
   "cell_type": "code",
   "execution_count": null,
   "metadata": {},
   "outputs": [],
   "source": [
    "N = np.nan\n",
    "np.array([1, N, N, N, 5])"
   ]
  },
  {
   "cell_type": "code",
   "execution_count": null,
   "metadata": {},
   "outputs": [],
   "source": [
    "Z = np.random.randint(10, size=(3,3))\n",
    "print(Z)\n",
    "Z[Z > 5]"
   ]
  },
  {
   "cell_type": "code",
   "execution_count": null,
   "metadata": {},
   "outputs": [],
   "source": [
    "print(bool(42))\n",
    "print(bool(0))\n",
    "print(bool(-5.5))"
   ]
  },
  {
   "cell_type": "code",
   "execution_count": null,
   "metadata": {},
   "outputs": [],
   "source": [
    "A = np.array([1, 0, 1, 0])\n",
    "B = np.array([1, 0, 0, 1])\n",
    "print(A & B)\n",
    "print(A | B)\n",
    "\n",
    "A = np.array([1, 0, 1, 0], dtype=bool)\n",
    "B = np.array([1, 0, 0, 1], dtype=bool)\n",
    "print(A & B)\n",
    "print(A | B)"
   ]
  },
  {
   "cell_type": "code",
   "execution_count": null,
   "metadata": {},
   "outputs": [],
   "source": [
    "Z = np.random.randint(10, size=(3,3))\n",
    "print(Z)\n",
    "print((Z > 3) & (Z < 6))\n",
    "print((Z > 3) | (Z < 6))"
   ]
  },
  {
   "cell_type": "code",
   "execution_count": null,
   "metadata": {},
   "outputs": [],
   "source": [
    "Z = np.arange(5)\n",
    "Z = np.add.outer(Z, Z)\n",
    "print(Z)\n",
    "print(Z[3:, 3:])\n",
    "print(Z[:, [0, 2, 4]])\n",
    "print(Z[[0, 2, 4], :])\n",
    "print(Z[[0, 2, 4], 4:])"
   ]
  },
  {
   "cell_type": "code",
   "execution_count": null,
   "metadata": {},
   "outputs": [],
   "source": [
    "Z = np.arange(7)\n",
    "i = np.array([3, 4])\n",
    "Z[i] = 99\n",
    "Z"
   ]
  },
  {
   "cell_type": "code",
   "execution_count": null,
   "metadata": {},
   "outputs": [],
   "source": [
    "Z = np.zeros(10, dtype=int)\n",
    "i = [2, 5, 5, 5, 5, 9, 9]\n",
    "np.add.at(Z, i, 10)\n",
    "Z"
   ]
  },
  {
   "cell_type": "code",
   "execution_count": null,
   "metadata": {},
   "outputs": [],
   "source": [
    "Z = np.array([1, 2, 7, 2, 7, 0, 1, 8, 0, 5])\n",
    "Y = np.argsort(Z)\n",
    "print(Y)\n",
    "print(Z[Y])"
   ]
  },
  {
   "cell_type": "code",
   "execution_count": null,
   "metadata": {},
   "outputs": [],
   "source": [
    "Z = np.random.randint(10, size=(3,3))\n",
    "print(Z)\n",
    "\n",
    "print(np.sort(Z, axis=0))\n",
    "print(np.sort(Z, axis=1))"
   ]
  },
  {
   "cell_type": "code",
   "execution_count": null,
   "metadata": {},
   "outputs": [],
   "source": [
    "Z = np.arange(1000)\n",
    "'%d bytes' % (Z.size * Z.itemsize)"
   ]
  },
  {
   "cell_type": "code",
   "execution_count": null,
   "metadata": {},
   "outputs": [],
   "source": [
    "X = np.random.randint(2, size=7)\n",
    "print(X)\n",
    "print(np.nonzero(X), '\\n')\n",
    "\n",
    "Y = np.random.choice([True, False], size=7)\n",
    "print(Y)\n",
    "print(np.nonzero(Y))"
   ]
  },
  {
   "cell_type": "code",
   "execution_count": null,
   "metadata": {},
   "outputs": [],
   "source": [
    "Z = np.arange(25).reshape(5,5)\n",
    "print(Z)\n",
    "print(Z[1:-1, 1:-1])\n",
    "print(Z[2:-2, 2:-2])"
   ]
  },
  {
   "cell_type": "code",
   "execution_count": null,
   "metadata": {},
   "outputs": [],
   "source": [
    "X = np.arange(5)\n",
    "\n",
    "print(np.pad(X, 10, 'edge'))\n",
    "print(np.pad(X, (2,10), 'edge'))\n",
    "print(np.pad(X, (2,10), 'constant', constant_values=(7)))\n",
    "print(np.pad(X, (2,10), 'constant', constant_values=(7, np.arange(10))))"
   ]
  },
  {
   "cell_type": "code",
   "execution_count": null,
   "metadata": {},
   "outputs": [],
   "source": [
    "Y = np.arange(9).reshape(3,3)\n",
    "\n",
    "print(np.pad(Y, ((1, 1), (0, 0)), 'edge'))\n",
    "print(np.pad(Y, ((0, 0) , (1,1)), 'edge'))\n",
    "print(np.pad(Y, (1, 1), 'edge'))"
   ]
  },
  {
   "cell_type": "code",
   "execution_count": null,
   "metadata": {},
   "outputs": [],
   "source": [
    "Z = np.zeros((5,5))\n",
    "print(np.pad(Z, (1,1), 'constant', constant_values=(1)))\n",
    "print(np.pad(Z, pad_width=1, mode='constant', constant_values=(1)))"
   ]
  },
  {
   "cell_type": "code",
   "execution_count": null,
   "metadata": {},
   "outputs": [],
   "source": [
    "print(0.3 == 0.3 * 1)\n",
    "print(0.3 == 3 * 0.1)\n",
    "print(0.1 + 0.2 == 0.3)\n",
    "print(0.2 + 0.2 == 0.4)\n",
    "print(0.2 * 0.2 == 0.04)"
   ]
  },
  {
   "cell_type": "code",
   "execution_count": null,
   "metadata": {},
   "outputs": [],
   "source": [
    "print(np.diag(np.arange(3)))\n",
    "print(np.diag(np.arange(3), k = -1))\n",
    "print(np.diag(100 + np.arange(3)))"
   ]
  },
  {
   "cell_type": "code",
   "execution_count": null,
   "metadata": {},
   "outputs": [],
   "source": [
    "Z = np.arange(100, 109).reshape(3,3)\n",
    "print(Z)\n",
    "print(Z.item(4))\n",
    "print(Z.item((1, 1)))"
   ]
  },
  {
   "cell_type": "code",
   "execution_count": null,
   "metadata": {},
   "outputs": [],
   "source": [
    "Z = np.arange(10)\n",
    "print(np.where(Z == 7))\n",
    "print(np.where(Z > 3))\n",
    "print(np.where(Z < 5, Z*10, Z*100))"
   ]
  },
  {
   "cell_type": "code",
   "execution_count": null,
   "metadata": {},
   "outputs": [],
   "source": [
    "X = np.arange(1, 10).reshape(3, 3)\n",
    "print(X)\n",
    "print(np.unravel_index(4 , (3, 3)))\n",
    "X[np.unravel_index(4 , (3, 3))]"
   ]
  },
  {
   "cell_type": "code",
   "execution_count": null,
   "metadata": {},
   "outputs": [],
   "source": [
    "Z = np.array([0, 1, 2, 3])\n",
    "print(np.tile(Z, 2))\n",
    "print(np.tile(Z, (2, 1)))\n",
    "print(np.tile(Z, (2, 2)))\n",
    "print()\n",
    "Y = np.array([[1, 2], [3, 4]])\n",
    "print(np.tile(Y, 2))\n",
    "print(np.tile(Y, (2, 1)))"
   ]
  },
  {
   "cell_type": "code",
   "execution_count": null,
   "metadata": {},
   "outputs": [],
   "source": [
    "Z = np.arange(1, 10)\n",
    "Z[(Z > 3) & (Z < 8)] *= -1\n",
    "print(Z)\n",
    "#Z[Z > 3 & Z < 8] *= -1\n",
    "#Z[(Z > 3) and (Z < 8)] *= -1"
   ]
  },
  {
   "cell_type": "code",
   "execution_count": null,
   "metadata": {},
   "outputs": [],
   "source": [
    "print(np.copysign(5, -1))\n",
    "print(np.copysign([1, 1, 1], [-3, 2, -4]))\n",
    "print(np.copysign([-1, -2, -3], 1))"
   ]
  },
  {
   "cell_type": "code",
   "execution_count": null,
   "metadata": {},
   "outputs": [],
   "source": [
    "Z = np.array([-1.7, -0.7, -0.2, 0.2, 0.7, 1.7])\n",
    "print(np.rint(Z))\n",
    "print(np.round(Z, 0))\n",
    "print(np.trunc(Z))\n",
    "print(np.ceil(Z))\n",
    "print(np.floor(Z))"
   ]
  },
  {
   "cell_type": "code",
   "execution_count": null,
   "metadata": {},
   "outputs": [],
   "source": [
    "X = np.array([1, 2, 3, 4, 5, 6])\n",
    "Y = np.array([7, 8, 3, 4, 5, 9])\n",
    "np.intersect1d(X, Y)"
   ]
  },
  {
   "cell_type": "code",
   "execution_count": null,
   "metadata": {},
   "outputs": [],
   "source": [
    "print(np.datetime64('today', 'D'))\n",
    "print(np.datetime64('today', 'D') + np.timedelta64(1, 'D'))\n",
    "print(np.datetime64('today', 'D') + np.timedelta64(7, 'D'))\n",
    "print(np.arange('2020-01', '2020-02', dtype='datetime64[D]'))"
   ]
  },
  {
   "cell_type": "code",
   "execution_count": null,
   "metadata": {},
   "outputs": [],
   "source": [
    "Z = np.array([1, 2, 3])\n",
    "np.multiply(Z, 10, out=Z)\n",
    "Z"
   ]
  },
  {
   "cell_type": "code",
   "execution_count": null,
   "metadata": {},
   "outputs": [],
   "source": [
    "Z = np.random.uniform(1, 10, size=3)\n",
    "print(Z)\n",
    "print(Z - Z % 1)\n",
    "print(Z // 1)\n",
    "print(np.floor(Z))\n",
    "print(np.ceil(Z) - 1)\n",
    "print(Z.astype(int).astype(float))\n",
    "print(np.trunc(Z))"
   ]
  },
  {
   "cell_type": "code",
   "execution_count": null,
   "metadata": {},
   "outputs": [],
   "source": [
    "Z = np.zeros((5,5))\n",
    "Z += np.arange(5)\n",
    "print(Z)\n",
    "\n",
    "Z = np.zeros((5,5))\n",
    "Z += np.arange(5)[:, None]\n",
    "print(Z)"
   ]
  },
  {
   "cell_type": "code",
   "execution_count": null,
   "metadata": {},
   "outputs": [],
   "source": [
    "Z = (x*10 for x in range(3))\n",
    "np.fromiter(Z, int)"
   ]
  },
  {
   "cell_type": "code",
   "execution_count": null,
   "metadata": {},
   "outputs": [],
   "source": [
    "Z = np.random.randint(10, size=(3, 3))\n",
    "print(Z, '\\n')\n",
    "print(np.sort(Z, axis=None))\n",
    "print(np.sort(Z))\n",
    "print(np.sort(Z, axis=0))"
   ]
  },
  {
   "cell_type": "code",
   "execution_count": null,
   "metadata": {},
   "outputs": [],
   "source": [
    "Z = np.array([3, 3, 3])\n",
    "print(Z.flags.writeable)\n",
    "\n",
    "Z = np.array([3, 3, 3])\n",
    "Z.flags.writeable = False\n",
    "print(Z.flags.writeable)"
   ]
  },
  {
   "cell_type": "code",
   "execution_count": null,
   "metadata": {},
   "outputs": [],
   "source": [
    "Z = np.array([1, 1, 10, 1, 1])\n",
    "print(np.amax(Z))\n",
    "\n",
    "Z[np.where(Z == np.amax(Z))] = 20\n",
    "print(Z)\n",
    "\n",
    "Z[Z.argmax()] = 30\n",
    "print(Z)"
   ]
  },
  {
   "cell_type": "code",
   "execution_count": null,
   "metadata": {},
   "outputs": [],
   "source": [
    "Z = np.zeros((5,5), [('x',float),('y',float)])\n",
    "Z['x'], Z['y'] = np.meshgrid(np.linspace(0,1,5),\n",
    "                             np.linspace(0,1,5))\n",
    "print(Z)"
   ]
  },
  {
   "cell_type": "code",
   "execution_count": null,
   "metadata": {},
   "outputs": [],
   "source": [
    "np.set_printoptions(precision=3)\n",
    "Z = np.array([1.564867842352352])\n",
    "print(Z)\n",
    "\n",
    "np.set_printoptions(threshold = 5)\n",
    "Z = np.arange(10)\n",
    "print(Z)"
   ]
  }
 ],
 "metadata": {
  "kernelspec": {
   "display_name": "Python 3",
   "language": "python",
   "name": "python3"
  },
  "language_info": {
   "codemirror_mode": {
    "name": "ipython",
    "version": 3
   },
   "file_extension": ".py",
   "mimetype": "text/x-python",
   "name": "python",
   "nbconvert_exporter": "python",
   "pygments_lexer": "ipython3",
   "version": "3.8.3"
  }
 },
 "nbformat": 4,
 "nbformat_minor": 4
}
